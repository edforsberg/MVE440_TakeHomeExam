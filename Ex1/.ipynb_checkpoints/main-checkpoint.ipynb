{
 "cells": [
  {
   "cell_type": "code",
   "execution_count": 174,
   "metadata": {},
   "outputs": [],
   "source": [
    "import numpy as np\n",
    "data = np.load(\"exercise1.npz\")\n",
    "XA1 = data['XA1']\n",
    "yA1 = data['yA1']\n",
    "XA2 = data['XA2']\n",
    "yA2 = data['yA2']\n",
    "\n",
    "XB1 = data['XB1']\n",
    "yB1 = data['yB1']\n",
    "XB2 = data['XB2']\n",
    "yB2 = data['yB2']\n",
    "data.close()"
   ]
  },
  {
   "cell_type": "code",
   "execution_count": 199,
   "metadata": {},
   "outputs": [],
   "source": [
    "from sklearn import linear_model\n",
    "from sklearn import datasets, linear_model\n",
    "from sklearn.model_selection import cross_validate\n",
    "from sklearn.model_selection import cross_val_score\n",
    "\n",
    "\n",
    "def evaluate_performance(X,y,cv_):\n",
    "    reg = linear_model.LinearRegression()\n",
    "    cv_results = cross_validate(reg, X, y, cv=cv_, scoring=('r2','neg_mean_squared_error'))\n",
    "    sorted(cv_results.keys())\n",
    "    ['fit_time', 'score_time', 'test_score']\n",
    "    test_mean_squared_error = -np.mean(cv_results['test_neg_mean_squared_error'])\n",
    "    test_r2 = np.mean(cv_results['test_r2'])\n",
    "    return test_mean_squared_error, test_r2\n",
    "\n"
   ]
  },
  {
   "cell_type": "code",
   "execution_count": 252,
   "metadata": {},
   "outputs": [],
   "source": [
    "from sklearn.ensemble import RandomForestRegressor\n",
    "import numpy as np\n",
    "\n",
    "def random_forest_feature_selection(X, y, nr_ests = 10):\n",
    "    rf = RandomForestRegressor(n_estimators = nr_ests, max_depth = 5, min_samples_leaf = 5)\n",
    "    rf.fit(X, y)\n",
    "    feature_importance = rf.feature_importances_\n",
    "    sorted_features = sorted(range(len(feature_importance)), key=lambda k: feature_importance[k])\n",
    "    #sorted_features = sorted_features.reverse()\n",
    "    return sorted_features"
   ]
  },
  {
   "cell_type": "code",
   "execution_count": null,
   "metadata": {},
   "outputs": [],
   "source": [
    "from mlxtend.feature_selection import SequentialFeatureSelector\n",
    "\n"
   ]
  },
  {
   "cell_type": "code",
   "execution_count": 269,
   "metadata": {},
   "outputs": [],
   "source": [
    "xData = XA1\n",
    "yData = yA1 \n",
    "\n",
    "nrFeatures = xData.shape[1]\n",
    "\n",
    "performance_random_forest = [];\n",
    "random_forest_features = random_forest_feature_selection(xData, yData, nr_ests = 100)[::-1]\n",
    "#print(random_forest_features)\n",
    "for i in range(1,nrFeatures):\n",
    "    features_i = random_forest_features[:i]\n",
    "    #print(features_i)\n",
    "    performance_random_forest.append(evaluate_performance(xData[:,features_i],yData,10))\n",
    "#performance_random_forest   \n",
    "    "
   ]
  },
  {
   "cell_type": "code",
   "execution_count": 270,
   "metadata": {},
   "outputs": [
    {
     "name": "stdout",
     "output_type": "stream",
     "text": [
      "[(3.5921487817533864, -0.1314791123412682), (3.388194404599794, -0.07577836980012781), (3.271093262323391, -0.03785483299439631), (3.2918785211825146, -0.046530146435996976), (2.9425750709165803, 0.06038387479493693), (2.837607980482785, 0.0914950762592501), (2.846456241489107, 0.07506293399286681), (2.9068329242924285, 0.05269635509569136), (2.919198485685316, 0.045376217635590535)]\n"
     ]
    },
    {
     "data": {
      "image/png": "[encoded data removed]",
      "text/plain": [
       "<Figure size 432x288 with 1 Axes>"
      ]
     },
     "metadata": {
      "needs_background": "light"
     },
     "output_type": "display_data"
    }
   ],
   "source": [
    "import matplotlib.pyplot as plt\n",
    "#print(performance_random_forest)\n",
    "plt.plot(range(1,nrFeatures),[i[0] for i in performance_random_forest])\n",
    "plt.title('mean sqr error')\n",
    "plt.show()"
   ]
  },
  {
   "cell_type": "code",
   "execution_count": 143,
   "metadata": {},
   "outputs": [
    {
     "ename": "AttributeError",
     "evalue": "'list' object has no attribute 'tolist'",
     "output_type": "error",
     "traceback": [
      "\u001b[1;31m---------------------------------------------------------------------------\u001b[0m",
      "\u001b[1;31mAttributeError\u001b[0m                            Traceback (most recent call last)",
      "\u001b[1;32m<ipython-input-143-f7d67a815c69>\u001b[0m in \u001b[0;36m<module>\u001b[1;34m\u001b[0m\n\u001b[1;32m----> 1\u001b[1;33m \u001b[0mprint\u001b[0m\u001b[1;33m(\u001b[0m\u001b[0mperformance_random_forest\u001b[0m\u001b[1;33m.\u001b[0m\u001b[0mtolist\u001b[0m\u001b[1;33m(\u001b[0m\u001b[1;33m)\u001b[0m\u001b[1;33m)\u001b[0m\u001b[1;33m\u001b[0m\u001b[1;33m\u001b[0m\u001b[0m\n\u001b[0m",
      "\u001b[1;31mAttributeError\u001b[0m: 'list' object has no attribute 'tolist'"
     ]
    }
   ],
   "source": []
  }
 ],
 "metadata": {
  "kernelspec": {
   "display_name": "Python 3",
   "language": "python",
   "name": "python3"
  },
  "language_info": {
   "codemirror_mode": {
    "name": "ipython",
    "version": 3
   },
   "file_extension": ".py",
   "mimetype": "text/x-python",
   "name": "python",
   "nbconvert_exporter": "python",
   "pygments_lexer": "ipython3",
   "version": "3.7.3"
  }
 },
 "nbformat": 4,
 "nbformat_minor": 2
}
