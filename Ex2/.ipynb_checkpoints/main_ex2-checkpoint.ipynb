{
 "cells": [
  {
   "cell_type": "code",
   "execution_count": 15,
   "metadata": {},
   "outputs": [],
   "source": [
    "import numpy as np\n",
    "data = np.load(\"exercise2.npz\",mmap_mode='r')\n",
    "data = data['X']"
   ]
  },
  {
   "cell_type": "code",
   "execution_count": 18,
   "metadata": {},
   "outputs": [
    {
     "data": {
      "text/plain": [
       "[<matplotlib.lines.Line2D at 0x149d9e0b780>]"
      ]
     },
     "execution_count": 18,
     "metadata": {},
     "output_type": "execute_result"
    },
    {
     "data": {
      "image/png": "[encoded data removed]",
      "text/plain": [
       "<Figure size 432x288 with 1 Axes>"
      ]
     },
     "metadata": {
      "needs_background": "light"
     },
     "output_type": "display_data"
    }
   ],
   "source": [
    "import matplotlib.pyplot as plt\n",
    "\n",
    "def filtering(X):\n",
    "    variance = np.var(X,axis=0)\n",
    "    sorted_indices = np.argsort(variance) \n",
    "   # print(variance[sorted_indices])\n",
    "    return list(sorted_indices), variance[sorted_indices]\n",
    "\n",
    "idx, var = filtering(data)\n",
    "\n",
    "plt.plot(range(0,data.shape[1]), var)\n",
    "\n",
    "\n"
   ]
  },
  {
   "cell_type": "code",
   "execution_count": null,
   "metadata": {},
   "outputs": [],
   "source": [
    "from sklearn.cluster import DBSCAN\n",
    "import numpy as np\n",
    "clustering = DBSCAN(eps=3, min_samples=2).fit(X)\n",
    "clustering.labels_\n",
    "array([ 0,  0,  0,  1,  1, -1])\n",
    ">>> clustering \n",
    "DBSCAN(algorithm='auto', eps=3, leaf_size=30, metric='euclidean',\n",
    "    metric_params=None, min_samples=2, n_jobs=None, p=None)"
   ]
  },
  {
   "cell_type": "code",
   "execution_count": 21,
   "metadata": {},
   "outputs": [],
   "source": [
    "from sklearn.cluster import KMeans, SpectralClustering, DBSCAN\n",
    "from sklearn import datasets\n",
    "import matplotlib\n",
    "import matplotlib.pyplot as plt\n",
    "import matplotlib.cm as cm\n",
    "import numpy as np\n",
    "from sklearn.cluster import DBSCAN\n",
    "\n",
    "def bounding_box(data):\n",
    "    xMin, yMin = min(data[:,0]), min(data[:,1])\n",
    "    xMax, yMax = max(data[:,0]), max(data[:,1])\n",
    "    return xMin,xMax, yMin, yMax\n",
    "\n",
    "def within_cluster_scatter(clusters, mu):\n",
    "    K = len(mu)\n",
    "    res = sum([np.linalg.norm(mu[i]-c)**2/(2*len(c)) \\\n",
    "               for i in range(K) for c in clusters[i]])\n",
    "    return res\n",
    "\n",
    "def get_clusters_from_labels(labels, data, nrClusters):\n",
    "    return [c for c in [data[labels==i] for i in range(nrClusters)]]\n",
    "\n",
    "def get_cluster_centers(clusters):\n",
    "    return [np.mean(c, axis=0).tolist() for c in clusters]\n",
    "\n",
    "def clustering_algorithm(data, K, algorithm='kmeans'):\n",
    "    if algorithm == 'kmeans':\n",
    "        km = KMeans(n_clusters=K, random_state=0).fit(data)\n",
    "        return km.labels_\n",
    "    \n",
    "    else if algorithm == 'spectral':\n",
    "        sc = SpectralClustering(K,eigen_solver='arpack' ,affinity=\"nearest_neighbors\", random_state=0).fit(data)\n",
    "        return sc.labels_\n",
    "    \n",
    "    else if algorithm == 'DBSCAN'\n",
    "    \n",
    "\n",
    "\n",
    "def get_gap_statistic(data, use_spectral=False, cluster_algorithm='kmeans', K_max=10, verbose=False):\n",
    "    \n",
    "    B = 10 # number of reference \n",
    "    Ks = range(1,K_max+1) \n",
    "    wk_real_data = np.zeros(len(Ks))\n",
    "    wk_reference_data = np.zeros(len(Ks))\n",
    "    sdk = np.zeros(len(Ks))\n",
    "    nrDataPoints = len(data)\n",
    "    xMin,xMax,yMin,yMax = bounding_box(data)  \n",
    "\n",
    "    for iK, K in enumerate(Ks):\n",
    "        \n",
    "        if verbose:\n",
    "            print(\"Calculating for K = {} of {} ...\".format(K,K_max))\n",
    "\n",
    "        # We generate 10 reference data sets with K clusters and check Wk\n",
    "        wk_bs = np.zeros(B);\n",
    "        for i in range(B):\n",
    "            random_Xdat = np.transpose(np.array([np.random.uniform(xMin, xMax, nrDataPoints), \\\n",
    "                                         np.random.uniform(yMin, yMax, nrDataPoints)]))\n",
    "\n",
    "            km = KMeans(n_clusters=K, random_state=0).fit(random_Xdat)\n",
    "            clusters_unif = get_clusters_from_labels(km.labels_, random_Xdat, K);\n",
    "            wk_unif = within_cluster_scatter(clusters_unif, km.cluster_centers_)\n",
    "            wk_bs[i] = np.log(wk_unif)\n",
    "\n",
    "        wk_reference_data[iK] = np.mean(wk_bs)\n",
    "\n",
    "        sdk[iK] = np.sqrt(np.mean((wk_bs - wk_reference_data[iK])**2))\n",
    "\n",
    "        # Calculate Wk for real data\n",
    "        km = KMeans(n_clusters=K, random_state=0).fit(data)\n",
    "        clusters_real = get_clusters_from_labels(km.labels_, data, K);\n",
    "        wk_real_log = np.log(within_cluster_scatter(clusters_real, km.cluster_centers_))\n",
    "\n",
    "        wk_real_data[iK] = wk_real_log\n",
    "\n",
    "    sk = sdk*np.sqrt(1+1/B)\n",
    "    print(sk)\n",
    "    \n",
    "    return wk_real_data, wk_reference_data, sk, Ks\n",
    "\n",
    "def get_optimal_k(wk, wk_ref, sk, Ks):\n",
    "    for iK, K in enumerate(Ks):\n",
    "        if (iK == len(Ks)-1):\n",
    "            pass\n",
    "        gap = wk_ref[iK] - wk[iK];\n",
    "        gap_next = wk_ref[iK+1] - wk[iK+1]\n",
    "        \n",
    "        if gap < 0:\n",
    "            continue\n",
    "        \n",
    "        print(\"Gap(k): {}, Gap(k+1): {}, Sk(k+1): {}\".format(gap,gap_next,sk[iK+1]))\n",
    "        print(\"Gap(k) - Gap(k+1) - Sk(k+1) = {}\".format(gap-gap_next-sk[iK+1]))\n",
    "        if  (gap >= gap_next - sk[iK+1]):\n",
    "            return K\n",
    "        \n",
    "def plot_wk(Ks, wk, wk_ref):\n",
    "    f, (ax1,ax2) = plt.subplots(1, 2)\n",
    "    f.set_figwidth(15)\n",
    "\n",
    "    ax1.plot(Ks, wk, label=r\"$log W_k$\")\n",
    "    ax1.plot(Ks, wk_ref, label=r\"$\\frac{1}{B}\\sum^{B}_{b}\\log W_{kb}$\")\n",
    "    ax1.legend(loc='upper right')\n",
    "    ax1.set_xlabel(\"K\")\n",
    "\n",
    "\n",
    "    ax2.plot(Ks, np.exp(wk))\n",
    "    ax2.set_xlabel(\"K\")\n",
    "    ax2.set_ylabel(r\"$W_k$\")\n",
    "\n",
    "    plt.show()"
   ]
  },
  {
   "cell_type": "code",
   "execution_count": 23,
   "metadata": {},
   "outputs": [
    {
     "name": "stdout",
     "output_type": "stream",
     "text": [
      "[0.05674004 0.036743   0.03144606 0.04264338 0.02875362 0.04536355\n",
      " 0.06136794 0.03251715 0.0309048  0.04243102]\n"
     ]
    },
    {
     "data": {
      "image/png": "[encoded data removed]",
      "text/plain": [
       "<Figure size 1080x288 with 2 Axes>"
      ]
     },
     "metadata": {
      "needs_background": "light"
     },
     "output_type": "display_data"
    }
   ],
   "source": [
    "wk_real_data, wk_reference_data, sk, Ks = get_gap_statistic(data)\n",
    "plot_wk(Ks, wk_real_data, wk_reference_data)"
   ]
  }
 ],
 "metadata": {
  "kernelspec": {
   "display_name": "Python 3",
   "language": "python",
   "name": "python3"
  },
  "language_info": {
   "codemirror_mode": {
    "name": "ipython",
    "version": 3
   },
   "file_extension": ".py",
   "mimetype": "text/x-python",
   "name": "python",
   "nbconvert_exporter": "python",
   "pygments_lexer": "ipython3",
   "version": "3.7.3"
  }
 },
 "nbformat": 4,
 "nbformat_minor": 2
}
